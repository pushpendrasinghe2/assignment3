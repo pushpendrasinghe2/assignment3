{
 "cells": [
  {
   "cell_type": "code",
   "execution_count": 1,
   "id": "3e7ff35e",
   "metadata": {},
   "outputs": [],
   "source": [
    "##1. Why are functions advantageous to have in your programs?"
   ]
  },
  {
   "cell_type": "code",
   "execution_count": 2,
   "id": "5305f68f",
   "metadata": {},
   "outputs": [],
   "source": [
    "##ANS- Functions are used so that we do not have to wite repeated  \n",
    "##codes which returns same results in our project. it makes our \n",
    "##program more efficient by avoiding duplicate codes.  "
   ]
  },
  {
   "cell_type": "code",
   "execution_count": 5,
   "id": "f311e3fd",
   "metadata": {},
   "outputs": [],
   "source": [
    "##2. When does the code in a function run: when it's specified or\n",
    "##when it's called?"
   ]
  },
  {
   "cell_type": "code",
   "execution_count": 6,
   "id": "87476c81",
   "metadata": {},
   "outputs": [],
   "source": [
    "##ANS- A function will execute when it is called."
   ]
  },
  {
   "cell_type": "code",
   "execution_count": 7,
   "id": "24211e47",
   "metadata": {},
   "outputs": [],
   "source": [
    "##3. What statement creates a function?"
   ]
  },
  {
   "cell_type": "code",
   "execution_count": 8,
   "id": "5b8444fa",
   "metadata": {},
   "outputs": [],
   "source": [
    "##ANS- TO create a function you have to start with def keyword.\n",
    "\n",
    "##example - def function_name():\n",
    "##             body of function \n",
    "##            return"
   ]
  },
  {
   "cell_type": "code",
   "execution_count": 9,
   "id": "ee4660b6",
   "metadata": {},
   "outputs": [],
   "source": [
    "##4. What is the difference between a function and a function call?"
   ]
  },
  {
   "cell_type": "code",
   "execution_count": 10,
   "id": "aed1715a",
   "metadata": {},
   "outputs": [],
   "source": [
    "##ANS- A function is defined where it consists of code for a \n",
    "##particular task. but the code will be executed only when the\n",
    "##function is being called by its name."
   ]
  },
  {
   "cell_type": "code",
   "execution_count": 11,
   "id": "ed048a07",
   "metadata": {},
   "outputs": [],
   "source": [
    "##5. How many global scopes are there in a Python program? How many \n",
    "##local scopes?"
   ]
  },
  {
   "cell_type": "code",
   "execution_count": 1,
   "id": "8c593f24",
   "metadata": {},
   "outputs": [],
   "source": [
    "##ANS-There is only one scope in python and one local scope.Enclosing\n",
    "##scope is limited to nested functions."
   ]
  },
  {
   "cell_type": "code",
   "execution_count": 2,
   "id": "e76610ab",
   "metadata": {},
   "outputs": [],
   "source": [
    "##6. What happens to variables in a local scope when the function\n",
    "##call returns?"
   ]
  },
  {
   "cell_type": "code",
   "execution_count": 3,
   "id": "c949f83b",
   "metadata": {},
   "outputs": [],
   "source": [
    "##ANS-The variables defined inside a local scope of a function is only\n",
    "##available within function body(local scope).Thus,when a function is\n",
    "##called,and it returns a  value then the local variables are killed."
   ]
  },
  {
   "cell_type": "code",
   "execution_count": 4,
   "id": "184a139d",
   "metadata": {},
   "outputs": [],
   "source": [
    "##7. What is the concept of a return value? Is it possible to have a \n",
    "##return value in an expression?"
   ]
  },
  {
   "cell_type": "code",
   "execution_count": 1,
   "id": "cf14285a",
   "metadata": {},
   "outputs": [],
   "source": [
    "##ANS- A return statement comnunicate back to the caller of the function\n",
    "##therfore,it replaces the function call with the returned value.\n",
    "##yes, it is possible to have return value in expression."
   ]
  },
  {
   "cell_type": "code",
   "execution_count": 2,
   "id": "b7d16e00",
   "metadata": {},
   "outputs": [],
   "source": [
    "##8. If a function does not have a return statement, what is the \n",
    "##return value of a call to that function?"
   ]
  },
  {
   "cell_type": "code",
   "execution_count": 7,
   "id": "8eb74a79",
   "metadata": {},
   "outputs": [
    {
     "name": "stdout",
     "output_type": "stream",
     "text": [
      "20\n"
     ]
    }
   ],
   "source": [
    "##ANS-same as if it has return statement\n",
    "def test(p):\n",
    "    print( p* 5)\n",
    "    \n",
    "\n",
    "test(4)"
   ]
  },
  {
   "cell_type": "code",
   "execution_count": null,
   "id": "fe3de9c7",
   "metadata": {},
   "outputs": [],
   "source": [
    "##9. How do you make a function variable refer to the global variable?"
   ]
  },
  {
   "cell_type": "code",
   "execution_count": 34,
   "id": "c3e006ff",
   "metadata": {},
   "outputs": [
    {
     "name": "stdout",
     "output_type": "stream",
     "text": [
      "76\n"
     ]
    },
    {
     "ename": "NameError",
     "evalue": "name 'z' is not defined",
     "output_type": "error",
     "traceback": [
      "\u001b[0;31m---------------------------------------------------------------------------\u001b[0m",
      "\u001b[0;31mNameError\u001b[0m                                 Traceback (most recent call last)",
      "\u001b[0;32m/tmp/ipykernel_915/174709925.py\u001b[0m in \u001b[0;36m<module>\u001b[0;34m\u001b[0m\n\u001b[1;32m      9\u001b[0m \u001b[0;34m\u001b[0m\u001b[0m\n\u001b[1;32m     10\u001b[0m \u001b[0mtest_2\u001b[0m\u001b[0;34m(\u001b[0m\u001b[0;34m)\u001b[0m\u001b[0;34m\u001b[0m\u001b[0;34m\u001b[0m\u001b[0m\n\u001b[0;32m---> 11\u001b[0;31m \u001b[0mtest_4\u001b[0m\u001b[0;34m(\u001b[0m\u001b[0;34m)\u001b[0m\u001b[0;34m\u001b[0m\u001b[0;34m\u001b[0m\u001b[0m\n\u001b[0m",
      "\u001b[0;32m/tmp/ipykernel_915/174709925.py\u001b[0m in \u001b[0;36mtest_4\u001b[0;34m()\u001b[0m\n\u001b[1;32m      5\u001b[0m \u001b[0;34m\u001b[0m\u001b[0m\n\u001b[1;32m      6\u001b[0m \u001b[0;32mdef\u001b[0m \u001b[0mtest_4\u001b[0m\u001b[0;34m(\u001b[0m\u001b[0;34m)\u001b[0m\u001b[0;34m:\u001b[0m\u001b[0;34m\u001b[0m\u001b[0;34m\u001b[0m\u001b[0m\n\u001b[0;32m----> 7\u001b[0;31m     \u001b[0my\u001b[0m \u001b[0;34m=\u001b[0m \u001b[0mz\u001b[0m\u001b[0;34m+\u001b[0m\u001b[0;36m34\u001b[0m\u001b[0;34m\u001b[0m\u001b[0;34m\u001b[0m\u001b[0m\n\u001b[0m\u001b[1;32m      8\u001b[0m     \u001b[0mprint\u001b[0m\u001b[0;34m(\u001b[0m\u001b[0my\u001b[0m\u001b[0;34m)\u001b[0m\u001b[0;34m\u001b[0m\u001b[0;34m\u001b[0m\u001b[0m\n\u001b[1;32m      9\u001b[0m \u001b[0;34m\u001b[0m\u001b[0m\n",
      "\u001b[0;31mNameError\u001b[0m: name 'z' is not defined"
     ]
    }
   ],
   "source": [
    "##ANS-by simply use thr global key word before the variable\n",
    "def test_2():\n",
    "    z=76\n",
    "    print (z)\n",
    "    \n",
    "def test_4():\n",
    "    y = z+34\n",
    "    print(y)\n",
    "\n",
    "test_2()\n",
    "test_4()\n"
   ]
  },
  {
   "cell_type": "code",
   "execution_count": 36,
   "id": "bd88209e",
   "metadata": {},
   "outputs": [
    {
     "name": "stdout",
     "output_type": "stream",
     "text": [
      "76\n",
      "110\n",
      "76\n"
     ]
    }
   ],
   "source": [
    "def test_2():\n",
    "    global x\n",
    "    x=76\n",
    "    print (x)\n",
    "\n",
    "    \n",
    "def test_4():\n",
    "    y = x+34\n",
    "    print(y)\n",
    "\n",
    "test_2()\n",
    "test_4()\n",
    "print(x)"
   ]
  },
  {
   "cell_type": "code",
   "execution_count": 37,
   "id": "3c33c670",
   "metadata": {},
   "outputs": [],
   "source": [
    "##10. What is the data type of None?"
   ]
  },
  {
   "cell_type": "code",
   "execution_count": 38,
   "id": "7a869656",
   "metadata": {},
   "outputs": [
    {
     "data": {
      "text/plain": [
       "NoneType"
      ]
     },
     "execution_count": 38,
     "metadata": {},
     "output_type": "execute_result"
    }
   ],
   "source": [
    "##ANS- (NoneType)\n",
    "type(None)"
   ]
  },
  {
   "cell_type": "code",
   "execution_count": 39,
   "id": "f5ddf7df",
   "metadata": {},
   "outputs": [],
   "source": [
    "##11. What does the sentence import areallyourpetsnamederic do?"
   ]
  },
  {
   "cell_type": "code",
   "execution_count": 46,
   "id": "bc1a70d4",
   "metadata": {},
   "outputs": [],
   "source": [
    "##ANS-That import statement imports a module named areallyourpetsnamederic \n",
    "##and This isn’t a real Python module by the way."
   ]
  },
  {
   "cell_type": "code",
   "execution_count": 47,
   "id": "3de0b137",
   "metadata": {},
   "outputs": [],
   "source": [
    "##12. If you had a bacon() feature in a spam module, what would you \n",
    "##call it after importing spam?"
   ]
  },
  {
   "cell_type": "code",
   "execution_count": 48,
   "id": "622f914e",
   "metadata": {},
   "outputs": [],
   "source": [
    "##ANS-This function can be called with spam.bacon()."
   ]
  },
  {
   "cell_type": "code",
   "execution_count": 43,
   "id": "b9c95b19",
   "metadata": {},
   "outputs": [],
   "source": [
    "##13. What can you do to save a programme from crashing if it\n",
    "##encounters an error?"
   ]
  },
  {
   "cell_type": "code",
   "execution_count": 44,
   "id": "f94942c9",
   "metadata": {},
   "outputs": [],
   "source": [
    "##ANS-Place the line of code that might cause an error in a try clause."
   ]
  },
  {
   "cell_type": "code",
   "execution_count": 45,
   "id": "6bc4ec77",
   "metadata": {},
   "outputs": [],
   "source": [
    "##14. What is the purpose of the try clause? What is the purpose of \n",
    "##the except clause?"
   ]
  },
  {
   "cell_type": "code",
   "execution_count": null,
   "id": "cffe753c",
   "metadata": {},
   "outputs": [],
   "source": [
    "##ANS-The code that could potentially cause an error goes in the try clause.\n",
    "##The code that executes if an error happens goes in the except clause."
   ]
  }
 ],
 "metadata": {
  "kernelspec": {
   "display_name": "Python 3 (ipykernel)",
   "language": "python",
   "name": "python3"
  },
  "language_info": {
   "codemirror_mode": {
    "name": "ipython",
    "version": 3
   },
   "file_extension": ".py",
   "mimetype": "text/x-python",
   "name": "python",
   "nbconvert_exporter": "python",
   "pygments_lexer": "ipython3",
   "version": "3.9.7"
  }
 },
 "nbformat": 4,
 "nbformat_minor": 5
}
